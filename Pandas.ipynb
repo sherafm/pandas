{
 "cells": [
  {
   "cell_type": "markdown",
   "metadata": {},
   "source": [
    "## Pandas"
   ]
  },
  {
   "cell_type": "code",
   "execution_count": 3,
   "metadata": {
    "collapsed": true
   },
   "outputs": [],
   "source": [
    "import pandas as pd"
   ]
  },
  {
   "cell_type": "markdown",
   "metadata": {},
   "source": [
    "Pandas is a language providing data structures for \"relational\" and \"labeled\" data for relatively unstructured datasets (csv, dictionaries). The most common one is DataFrame."
   ]
  },
  {
   "cell_type": "markdown",
   "metadata": {},
   "source": [
    "### DataFrames"
   ]
  },
  {
   "cell_type": "code",
   "execution_count": 5,
   "metadata": {
    "collapsed": false
   },
   "outputs": [
    {
     "data": {
      "text/html": [
       "<div>\n",
       "<table border=\"1\" class=\"dataframe\">\n",
       "  <thead>\n",
       "    <tr style=\"text-align: right;\">\n",
       "      <th></th>\n",
       "      <th>nom</th>\n",
       "      <th>population</th>\n",
       "      <th>stade</th>\n",
       "      <th>zip</th>\n",
       "    </tr>\n",
       "  </thead>\n",
       "  <tbody>\n",
       "    <tr>\n",
       "      <th>0</th>\n",
       "      <td>Paris</td>\n",
       "      <td>212</td>\n",
       "      <td>49691</td>\n",
       "      <td>75</td>\n",
       "    </tr>\n",
       "    <tr>\n",
       "      <th>1</th>\n",
       "      <td>Marseille</td>\n",
       "      <td>80</td>\n",
       "      <td>42000</td>\n",
       "      <td>13</td>\n",
       "    </tr>\n",
       "    <tr>\n",
       "      <th>2</th>\n",
       "      <td>Lyon</td>\n",
       "      <td>44</td>\n",
       "      <td>41842</td>\n",
       "      <td>69</td>\n",
       "    </tr>\n",
       "  </tbody>\n",
       "</table>\n",
       "</div>"
      ],
      "text/plain": [
       "         nom  population  stade zip\n",
       "0      Paris         212  49691  75\n",
       "1  Marseille          80  42000  13\n",
       "2       Lyon          44  41842  69"
      ]
     },
     "execution_count": 5,
     "metadata": {},
     "output_type": "execute_result"
    }
   ],
   "source": [
    "villes_stades = {'nom':[\"Paris\",\"Marseille\",\"Lyon\",\"Lens\",\"Toulouse\"],\n",
    "          'population':[212,80,44,32,39],\n",
    "          'zip':[\"75\",\"13\",\"69\",\"62\",\"31\"],\n",
    "          'stade':[49691,42000,41842,12097,35472]}\n",
    "\n",
    "villes = pd.DataFrame(villes_stades) # Pandas Invocation To Create DataFrame From Dictionary\n",
    "villes.head(3)"
   ]
  },
  {
   "cell_type": "code",
   "execution_count": null,
   "metadata": {
    "collapsed": true
   },
   "outputs": [],
   "source": [
    "print(villes.columns)\n",
    "\n",
    "# Prints The Columns Names If \"villes\" Was A csv File Read By Pandas"
   ]
  },
  {
   "cell_type": "code",
   "execution_count": 7,
   "metadata": {
    "collapsed": false
   },
   "outputs": [
    {
     "name": "stdout",
     "output_type": "stream",
     "text": [
      "(5, 4)\n"
     ]
    }
   ],
   "source": [
    "print(villes.shape) # Prints The Number Of Rows And Columns"
   ]
  },
  {
   "cell_type": "code",
   "execution_count": 15,
   "metadata": {
    "collapsed": false,
    "scrolled": true
   },
   "outputs": [
    {
     "data": {
      "text/html": [
       "<div>\n",
       "<table border=\"1\" class=\"dataframe\">\n",
       "  <thead>\n",
       "    <tr style=\"text-align: right;\">\n",
       "      <th></th>\n",
       "      <th>population</th>\n",
       "      <th>stade</th>\n",
       "    </tr>\n",
       "  </thead>\n",
       "  <tbody>\n",
       "    <tr>\n",
       "      <th>count</th>\n",
       "      <td>5.000000</td>\n",
       "      <td>5.000000</td>\n",
       "    </tr>\n",
       "    <tr>\n",
       "      <th>mean</th>\n",
       "      <td>81.400000</td>\n",
       "      <td>36220.400000</td>\n",
       "    </tr>\n",
       "    <tr>\n",
       "      <th>std</th>\n",
       "      <td>75.324631</td>\n",
       "      <td>14395.847988</td>\n",
       "    </tr>\n",
       "    <tr>\n",
       "      <th>min</th>\n",
       "      <td>32.000000</td>\n",
       "      <td>12097.000000</td>\n",
       "    </tr>\n",
       "    <tr>\n",
       "      <th>25%</th>\n",
       "      <td>39.000000</td>\n",
       "      <td>35472.000000</td>\n",
       "    </tr>\n",
       "    <tr>\n",
       "      <th>50%</th>\n",
       "      <td>44.000000</td>\n",
       "      <td>41842.000000</td>\n",
       "    </tr>\n",
       "    <tr>\n",
       "      <th>75%</th>\n",
       "      <td>80.000000</td>\n",
       "      <td>42000.000000</td>\n",
       "    </tr>\n",
       "    <tr>\n",
       "      <th>max</th>\n",
       "      <td>212.000000</td>\n",
       "      <td>49691.000000</td>\n",
       "    </tr>\n",
       "  </tbody>\n",
       "</table>\n",
       "</div>"
      ],
      "text/plain": [
       "       population         stade\n",
       "count    5.000000      5.000000\n",
       "mean    81.400000  36220.400000\n",
       "std     75.324631  14395.847988\n",
       "min     32.000000  12097.000000\n",
       "25%     39.000000  35472.000000\n",
       "50%     44.000000  41842.000000\n",
       "75%     80.000000  42000.000000\n",
       "max    212.000000  49691.000000"
      ]
     },
     "execution_count": 15,
     "metadata": {},
     "output_type": "execute_result"
    }
   ],
   "source": [
    "pd.DataFrame.describe(villes) # Brief Analysis Of The Dataframe\n",
    "\n",
    "pd.DataFrame.fillna(villes) # Fills Up Empty Cells With NaN"
   ]
  },
  {
   "cell_type": "code",
   "execution_count": 4,
   "metadata": {
    "collapsed": false
   },
   "outputs": [
    {
     "data": {
      "text/html": [
       "<div>\n",
       "<table border=\"1\" class=\"dataframe\">\n",
       "  <thead>\n",
       "    <tr style=\"text-align: right;\">\n",
       "      <th></th>\n",
       "      <th>nom</th>\n",
       "      <th>stade</th>\n",
       "    </tr>\n",
       "  </thead>\n",
       "  <tbody>\n",
       "    <tr>\n",
       "      <th>0</th>\n",
       "      <td>Paris</td>\n",
       "      <td>49691</td>\n",
       "    </tr>\n",
       "    <tr>\n",
       "      <th>1</th>\n",
       "      <td>Marseille</td>\n",
       "      <td>42000</td>\n",
       "    </tr>\n",
       "    <tr>\n",
       "      <th>2</th>\n",
       "      <td>Lyon</td>\n",
       "      <td>41842</td>\n",
       "    </tr>\n",
       "  </tbody>\n",
       "</table>\n",
       "</div>"
      ],
      "text/plain": [
       "         nom  stade\n",
       "0      Paris  49691\n",
       "1  Marseille  42000\n",
       "2       Lyon  41842"
      ]
     },
     "execution_count": 4,
     "metadata": {},
     "output_type": "execute_result"
    }
   ],
   "source": [
    "villes[[\"nom\",\"stade\"]].head(3) # Display Selected Columns"
   ]
  },
  {
   "cell_type": "code",
   "execution_count": 13,
   "metadata": {
    "collapsed": false
   },
   "outputs": [
    {
     "name": "stdout",
     "output_type": "stream",
     "text": [
      "0    212\n",
      "1     80\n",
      "2     44\n",
      "3     32\n",
      "4     39\n",
      "Name: population, dtype: int64\n"
     ]
    }
   ],
   "source": [
    "print(villes[\"population\"]) # Selects A Column By Name"
   ]
  },
  {
   "cell_type": "code",
   "execution_count": 16,
   "metadata": {
    "collapsed": false
   },
   "outputs": [
    {
     "data": {
      "text/plain": [
       "'75'"
      ]
     },
     "execution_count": 16,
     "metadata": {},
     "output_type": "execute_result"
    }
   ],
   "source": [
    "villes.iloc[0,3] # Selects A Specific Cell By Index"
   ]
  },
  {
   "cell_type": "code",
   "execution_count": 10,
   "metadata": {
    "collapsed": false
   },
   "outputs": [
    {
     "data": {
      "text/html": [
       "<div>\n",
       "<table border=\"1\" class=\"dataframe\">\n",
       "  <thead>\n",
       "    <tr style=\"text-align: right;\">\n",
       "      <th></th>\n",
       "      <th>nom</th>\n",
       "      <th>population</th>\n",
       "      <th>stade</th>\n",
       "      <th>zip</th>\n",
       "    </tr>\n",
       "  </thead>\n",
       "  <tbody>\n",
       "    <tr>\n",
       "      <th>1</th>\n",
       "      <td>Marseille</td>\n",
       "      <td>80</td>\n",
       "      <td>42000</td>\n",
       "      <td>13</td>\n",
       "    </tr>\n",
       "  </tbody>\n",
       "</table>\n",
       "</div>"
      ],
      "text/plain": [
       "         nom  population  stade zip\n",
       "1  Marseille          80  42000  13"
      ]
     },
     "execution_count": 10,
     "metadata": {},
     "output_type": "execute_result"
    }
   ],
   "source": [
    "villes[villes[\"population\"] == 80] # Selects A Subset of Data By Value"
   ]
  },
  {
   "cell_type": "code",
   "execution_count": 5,
   "metadata": {
    "collapsed": false
   },
   "outputs": [
    {
     "data": {
      "text/plain": [
       "nom            Lens\n",
       "population       32\n",
       "stade         12097\n",
       "zip              62\n",
       "Name: 3, dtype: object"
      ]
     },
     "execution_count": 5,
     "metadata": {},
     "output_type": "execute_result"
    }
   ],
   "source": [
    "villes.ix[3] # Select A Row By Index"
   ]
  },
  {
   "cell_type": "code",
   "execution_count": 6,
   "metadata": {
    "collapsed": false
   },
   "outputs": [
    {
     "data": {
      "text/html": [
       "<div>\n",
       "<table border=\"1\" class=\"dataframe\">\n",
       "  <thead>\n",
       "    <tr style=\"text-align: right;\">\n",
       "      <th></th>\n",
       "      <th>nom</th>\n",
       "      <th>population</th>\n",
       "      <th>stade</th>\n",
       "      <th>zip</th>\n",
       "    </tr>\n",
       "  </thead>\n",
       "  <tbody>\n",
       "    <tr>\n",
       "      <th>0</th>\n",
       "      <td>Paris</td>\n",
       "      <td>212</td>\n",
       "      <td>49691</td>\n",
       "      <td>75</td>\n",
       "    </tr>\n",
       "    <tr>\n",
       "      <th>1</th>\n",
       "      <td>Marseille</td>\n",
       "      <td>80</td>\n",
       "      <td>42000</td>\n",
       "      <td>13</td>\n",
       "    </tr>\n",
       "    <tr>\n",
       "      <th>2</th>\n",
       "      <td>Lyon</td>\n",
       "      <td>44</td>\n",
       "      <td>41842</td>\n",
       "      <td>69</td>\n",
       "    </tr>\n",
       "    <tr>\n",
       "      <th>4</th>\n",
       "      <td>Toulouse</td>\n",
       "      <td>39</td>\n",
       "      <td>35472</td>\n",
       "      <td>31</td>\n",
       "    </tr>\n",
       "  </tbody>\n",
       "</table>\n",
       "</div>"
      ],
      "text/plain": [
       "         nom  population  stade zip\n",
       "0      Paris         212  49691  75\n",
       "1  Marseille          80  42000  13\n",
       "2       Lyon          44  41842  69\n",
       "4   Toulouse          39  35472  31"
      ]
     },
     "execution_count": 6,
     "metadata": {},
     "output_type": "execute_result"
    }
   ],
   "source": [
    "villes[villes[\"stade\"]>30000] # Condition: City With Stadiums Containing More Than 30k People"
   ]
  },
  {
   "cell_type": "code",
   "execution_count": 7,
   "metadata": {
    "collapsed": false
   },
   "outputs": [
    {
     "data": {
      "text/html": [
       "<div>\n",
       "<table border=\"1\" class=\"dataframe\">\n",
       "  <thead>\n",
       "    <tr style=\"text-align: right;\">\n",
       "      <th></th>\n",
       "      <th>population</th>\n",
       "      <th>stade</th>\n",
       "    </tr>\n",
       "  </thead>\n",
       "  <tbody>\n",
       "    <tr>\n",
       "      <th>Paris</th>\n",
       "      <td>212</td>\n",
       "      <td>49691</td>\n",
       "    </tr>\n",
       "    <tr>\n",
       "      <th>Marseille</th>\n",
       "      <td>80</td>\n",
       "      <td>42000</td>\n",
       "    </tr>\n",
       "    <tr>\n",
       "      <th>Lyon</th>\n",
       "      <td>44</td>\n",
       "      <td>41842</td>\n",
       "    </tr>\n",
       "  </tbody>\n",
       "</table>\n",
       "</div>"
      ],
      "text/plain": [
       "           population  stade\n",
       "Paris             212  49691\n",
       "Marseille          80  42000\n",
       "Lyon               44  41842"
      ]
     },
     "execution_count": 7,
     "metadata": {},
     "output_type": "execute_result"
    }
   ],
   "source": [
    "villes2 = pd.DataFrame(villes_stades,\n",
    "                        columns=['population','stade'],\n",
    "                        index=villes_stades['nom']) # Replace Indices With A Column Name\n",
    "\n",
    "villes2.head(3)"
   ]
  },
  {
   "cell_type": "code",
   "execution_count": 21,
   "metadata": {
    "collapsed": false
   },
   "outputs": [
    {
     "data": {
      "text/plain": [
       "population    1.000000\n",
       "stade         0.637322\n",
       "Name: population, dtype: float64"
      ]
     },
     "execution_count": 21,
     "metadata": {},
     "output_type": "execute_result"
    }
   ],
   "source": [
    "villes.corr()[\"population\"] # Shows The Correlation Between Columns"
   ]
  },
  {
   "cell_type": "markdown",
   "metadata": {},
   "source": [
    "### Apply Function"
   ]
  },
  {
   "cell_type": "code",
   "execution_count": 8,
   "metadata": {
    "collapsed": false
   },
   "outputs": [
    {
     "data": {
      "text/plain": [
       "Paris        13470.6\n",
       "Marseille     5779.6\n",
       "Lyon          5621.6\n",
       "Lens        -24123.4\n",
       "Toulouse      -748.4\n",
       "Name: stade, dtype: float64"
      ]
     },
     "execution_count": 8,
     "metadata": {},
     "output_type": "execute_result"
    }
   ],
   "source": [
    "def difference(x): # Difference Between Value And Average Column Value With DataFrame.apply()\n",
    "    return x - x.mean()\n",
    "\n",
    "villes2_dif = villes2.apply(difference)\n",
    "\n",
    "villes2_dif['stade']"
   ]
  },
  {
   "cell_type": "markdown",
   "metadata": {
    "collapsed": true
   },
   "source": [
    "### Read File To Return A DataFrame"
   ]
  },
  {
   "cell_type": "raw",
   "metadata": {},
   "source": [
    "pd.read_csv(path_to_file.csv)\n",
    "\n",
    "OR\n",
    "\n",
    "pd.read_excel(pd.ExcelFile(\"path_to_file.xls\"), \"Sheet 1\")"
   ]
  },
  {
   "cell_type": "markdown",
   "metadata": {},
   "source": [
    "### GroupBy : Sum->Group->Display"
   ]
  },
  {
   "cell_type": "code",
   "execution_count": null,
   "metadata": {
    "collapsed": true
   },
   "outputs": [],
   "source": [
    "reserve.sort([\"Subvention allouée\",\"Coût du projet\"],ascending=False).head(2) \n",
    "\n",
    "# DataFrame Sorted To Get The Highest \"Subvention allouée\""
   ]
  },
  {
   "cell_type": "code",
   "execution_count": null,
   "metadata": {
    "collapsed": true
   },
   "outputs": [],
   "source": [
    "reserve['Subvention allouée'].groupby(reserve['Parlementaire transmetteur']).count().order(ascending=False)\n",
    "\n",
    "# To Get The \"Parlementaire\" Who Received The Highest Number Of \"Subventions\"\n",
    "# Use \"sum\" Instead Of \"count\" To Get \"Subventions\" In Value\n",
    "\n",
    "reserve['Coût du projet'].groupby(reserve['Nature']).mean() # Average \"Coût\" By \"Chamber\""
   ]
  },
  {
   "cell_type": "code",
   "execution_count": null,
   "metadata": {
    "collapsed": true
   },
   "outputs": [],
   "source": [
    "reserve.groupby(['Département','Nature']).size().unstack().ix['YVELINES']\n",
    "\n",
    "# Count Number Of Projects By The \"Département\" YVELINES By \"Chamber\"\n",
    "\n",
    "reserve[reserve['Bénéficiaire'] == 'PARIS'] # The \"Subvention\" Given To Paris"
   ]
  },
  {
   "cell_type": "markdown",
   "metadata": {},
   "source": [
    "#### Insert A Dictionary To \"Rename\" Values Within A Column"
   ]
  },
  {
   "cell_type": "code",
   "execution_count": null,
   "metadata": {
    "collapsed": true
   },
   "outputs": [],
   "source": [
    "mapping = {'CRC':'Partis de Gauche', \n",
    "           'CRC-SPG':'Partis de Gauche', \n",
    "           'ECO':'Ecologistes', \n",
    "           'GDR':'Radicaux', \n",
    "           'NC':'Centristes', \n",
    "           'NI':'Non Inscrits', \n",
    "           'RDSE':'Radicaux',\n",
    "           'SOC':'Parti Socialiste',\n",
    "           'SOCV':'Parti Socialiste',\n",
    "           'SRC':'Parti Socialiste',\n",
    "           'UC':'Centristes', \n",
    "           'UDI':'Centristes', \n",
    "           'UMP':'Union Mouvement Populaire'}\n",
    "\n",
    "reserve['parti'] = reserve['Groupe politique du parlementaire'].map(mapping)\n",
    "reserve.head(2) \n",
    "\n",
    "# A New \"Parti\" Column Has Been Created With The \"mapping\" Values Corresponding To \"Groupe Politique'"
   ]
  },
  {
   "cell_type": "markdown",
   "metadata": {},
   "source": [
    "### Data Wrangling"
   ]
  },
  {
   "cell_type": "code",
   "execution_count": null,
   "metadata": {
    "collapsed": true
   },
   "outputs": [],
   "source": [
    "users_ratings = pd.merge(users,ratings,on='user_id') # Merges Two DataFrames \"users\" & \"ratings\" With The Common Label \"user_id\""
   ]
  },
  {
   "cell_type": "code",
   "execution_count": null,
   "metadata": {
    "collapsed": true
   },
   "outputs": [],
   "source": [
    "DataFrame.drop_duplicates() # Removes All Duplicates"
   ]
  },
  {
   "cell_type": "code",
   "execution_count": null,
   "metadata": {
    "collapsed": true
   },
   "outputs": [],
   "source": [
    "DataFrame.dropna() # Removes Missing Values"
   ]
  },
  {
   "cell_type": "code",
   "execution_count": null,
   "metadata": {
    "collapsed": true
   },
   "outputs": [],
   "source": [
    "DataFrame._get_numeric_data() # Gets Numeric Columns Only"
   ]
  },
  {
   "cell_type": "code",
   "execution_count": null,
   "metadata": {
    "collapsed": true
   },
   "outputs": [],
   "source": [
    "top_100 = data['rating'].groupby(data['title']).agg(['count','mean'])\n",
    "\n",
    "top_100[top_100['count'] > 100].sort('mean',ascending=False).head(5)\n",
    "\n",
    "# Gets The 5 Movies With The Highest Ratings, With At Least 100 Ratings"
   ]
  },
  {
   "cell_type": "code",
   "execution_count": null,
   "metadata": {
    "collapsed": true
   },
   "outputs": [],
   "source": [
    "data['rating'].groupby(data['age']).mean().order(ascending=False).plot(kind='barh')\n",
    "\n",
    "# Displays Horizontal Bar Chart"
   ]
  },
  {
   "cell_type": "code",
   "execution_count": null,
   "metadata": {
    "collapsed": true
   },
   "outputs": [],
   "source": [
    "DataFrame[\"Column\"] = DataFrame[\"Column\"].astype(float)\n",
    "\n",
    "# Converts Specific Column Values Into Floating Numbers"
   ]
  }
 ],
 "metadata": {
  "kernelspec": {
   "display_name": "Python 2",
   "language": "python",
   "name": "python2"
  },
  "language_info": {
   "codemirror_mode": {
    "name": "ipython",
    "version": 2
   },
   "file_extension": ".py",
   "mimetype": "text/x-python",
   "name": "python",
   "nbconvert_exporter": "python",
   "pygments_lexer": "ipython2",
   "version": "2.7.10"
  }
 },
 "nbformat": 4,
 "nbformat_minor": 0
}
